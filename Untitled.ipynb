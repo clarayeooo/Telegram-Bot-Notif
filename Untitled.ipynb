{
 "cells": [
  {
   "cell_type": "code",
   "execution_count": 1,
   "metadata": {},
   "outputs": [],
   "source": [
    "import time\n",
    "import requests\n",
    "import schedule\n",
    "import numpy as np\n",
    "import datetime\n",
    "import pandas as pd\n",
    "import pandas_datareader\n",
    "from pandas_datareader import get_data_yahoo as yf\n",
    "from telegram import *\n",
    "from telegram.ext import *\n",
    "key=\"1625635210:AAGhRy5wwFipBoRmUG8Z3bUTklS9h5agGGc\""
   ]
  },
  {
   "cell_type": "code",
   "execution_count": 2,
   "metadata": {},
   "outputs": [],
   "source": [
    "#Step 1: Clara_Main is the main telegram to send messages to\n",
    "#Step 2: Telegram Bot (stock_notification_bot) is created and added to Clara_Main\n",
    "#Step 3: Clara_Main Chat id: -246838024, Market Neutral Chat id:-523735213\n",
    "#Step 4: Bot API: https://api.telegram.org/bot1625635210:AAGhRy5wwFipBoRmUG8Z3bUTklS9h5agGGc/getUpdates\n",
    "#Step 5: https://api.telegram.org/bot1625635210:AAGhRy5wwFipBoRmUG8Z3bUTklS9h5agGGc/sendMessage?chat_id=-246838024&text=\"This is a test msg\"          \n"
   ]
  },
  {
   "cell_type": "code",
   "execution_count": 3,
   "metadata": {},
   "outputs": [],
   "source": [
    "bot=Bot(key)\n",
    "updater=Updater(key, use_context=True)\n",
    "#=updater.Dispatcher"
   ]
  },
  {
   "cell_type": "code",
   "execution_count": 4,
   "metadata": {},
   "outputs": [],
   "source": [
    "def tele_bot_sendtext(bot_msg):\n",
    "    send_text='https://api.telegram.org/bot' + key + '/sendMessage?chat_id=' + \"-246838024\" + '&parse_mode=Markdown&text=' + bot_msg\n",
    "    response=requests.get(send_text)\n",
    "    return response.json()"
   ]
  },
  {
   "cell_type": "code",
   "execution_count": 5,
   "metadata": {},
   "outputs": [
    {
     "name": "stdout",
     "output_type": "stream",
     "text": [
      "{'ok': True, 'result': {'message_id': 33, 'from': {'id': 1625635210, 'is_bot': True, 'first_name': 'stock_notification', 'username': 'clarastockbot'}, 'chat': {'id': -246838024, 'title': 'Clara_Main', 'type': 'group', 'all_members_are_administrators': True}, 'date': 1613544367, 'text': 'Testing bot'}}\n"
     ]
    }
   ],
   "source": [
    "test=tele_bot_sendtext(\"Testing bot\")\n",
    "print(test)"
   ]
  },
  {
   "cell_type": "code",
   "execution_count": 6,
   "metadata": {},
   "outputs": [],
   "source": [
    "def get_stock():\n",
    "    price=yf(\"AAPL\")['Close'].tail(1).sum().round(5)\n",
    "    price=str(price)\n",
    "    price\n",
    "    send_text='https://api.telegram.org/bot' + key + '/sendMessage?chat_id=' + \"-246838024\" + '&parse_mode=Markdown&text=' + price\n",
    "    response=requests.get(send_text)"
   ]
  },
  {
   "cell_type": "code",
   "execution_count": null,
   "metadata": {},
   "outputs": [],
   "source": [
    "while True:\n",
    "    getStock()\n",
    "    time.sleep(60)"
   ]
  }
 ],
 "metadata": {
  "kernelspec": {
   "display_name": "Python 3",
   "language": "python",
   "name": "python3"
  },
  "language_info": {
   "codemirror_mode": {
    "name": "ipython",
    "version": 3
   },
   "file_extension": ".py",
   "mimetype": "text/x-python",
   "name": "python",
   "nbconvert_exporter": "python",
   "pygments_lexer": "ipython3",
   "version": "3.7.0"
  }
 },
 "nbformat": 4,
 "nbformat_minor": 2
}
