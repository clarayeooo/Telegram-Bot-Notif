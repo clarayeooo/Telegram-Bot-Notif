{
 "cells": [
  {
   "cell_type": "code",
   "execution_count": null,
   "metadata": {},
   "outputs": [],
   "source": [
    "Step 1: Clara_Main is the main telegram to send messages to\n",
    "Step 2: Telegram Bot (stock_notification_bot) is created and added to Clara_Main\n",
    "Step 3: Clara_Main Chat id: :-246838024\n",
    "Step 4: Bot API: https://api.telegram.org/bot1625635210:AAGhRy5wwFipBoRmUG8Z3bUTklS9h5agGGc/getUpdates\n",
    "Step 5: https://api.telegram.org/bot1625635210:AAGhRy5wwFipBoRmUG8Z3bUTklS9h5agGGc/sendMessage?chat_id=-246838024&text=\"This is a test msg\"          \n",
    "    "
   ]
  },
  {
   "cell_type": "code",
   "execution_count": 4,
   "metadata": {},
   "outputs": [
    {
     "name": "stdout",
     "output_type": "stream",
     "text": [
      "https://api.telegram.org/bot1625635210:AAGhRy5wwFipBoRmUG8Z3bUTklS9h5agGGc/sendMessage?chat_id=-246838024&text=\"hi\"\n"
     ]
    }
   ],
   "source": [
    "joke=\"hi\"\n",
    "base_url = 'https://api.telegram.org/bot1625635210:AAGhRy5wwFipBoRmUG8Z3bUTklS9h5agGGc/sendMessage?chat_id=-246838024&text=\"{}\"'.format(joke)\n",
    "print(base_url)        "
   ]
  },
  {
   "cell_type": "code",
   "execution_count": null,
   "metadata": {},
   "outputs": [],
   "source": []
  }
 ],
 "metadata": {
  "kernelspec": {
   "display_name": "Python 3",
   "language": "python",
   "name": "python3"
  },
  "language_info": {
   "codemirror_mode": {
    "name": "ipython",
    "version": 3
   },
   "file_extension": ".py",
   "mimetype": "text/x-python",
   "name": "python",
   "nbconvert_exporter": "python",
   "pygments_lexer": "ipython3",
   "version": "3.7.0"
  }
 },
 "nbformat": 4,
 "nbformat_minor": 2
}
