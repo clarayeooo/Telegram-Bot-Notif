{
 "cells": [
  {
   "cell_type": "code",
   "execution_count": null,
   "metadata": {},
   "outputs": [],
   "source": [
    "from telegram import *\n",
    "from telegram.ext import *\n",
    "import schedule\n",
    "import pandas as pd\n",
    "\n",
    "tf=pd.read_csv('telegram.csv')\n",
    "key=tf.iloc[0,0]\n",
    "chat_id= tf.iloc[0,1]"
   ]
  },
  {
   "cell_type": "code",
   "execution_count": null,
   "metadata": {},
   "outputs": [],
   "source": [
    "bot=Bot(key)\n",
    "updater=Updater(key, use_context=True)"
   ]
  },
  {
   "cell_type": "code",
   "execution_count": null,
   "metadata": {},
   "outputs": [],
   "source": [
    "def get_stock(summary, key, chat_id):\n",
    "    summary=str(summary)\n",
    "    key=str(key)\n",
    "    chat_id=str(chat_id)\n",
    "    send_table='https://api.telegram.org/bot' + key + '/sendMessage?chat_id=' + chat_id + '&parse_mode=Markdown&text=' + summary\n",
    "    response=requests.get(send_table)"
   ]
  },
  {
   "cell_type": "code",
   "execution_count": null,
   "metadata": {},
   "outputs": [],
   "source": [
    "get_stock(combined, key, chat_id)"
   ]
  },
  {
   "cell_type": "code",
   "execution_count": null,
   "metadata": {},
   "outputs": [],
   "source": [
    "#while True:\n",
    " #   getStock(combined)\n",
    "   # time.sleep(216000)"
   ]
  }
 ],
 "metadata": {
  "kernelspec": {
   "display_name": "Python 3",
   "language": "python",
   "name": "python3"
  },
  "language_info": {
   "codemirror_mode": {
    "name": "ipython",
    "version": 3
   },
   "file_extension": ".py",
   "mimetype": "text/x-python",
   "name": "python",
   "nbconvert_exporter": "python",
   "pygments_lexer": "ipython3",
   "version": "3.7.0"
  }
 },
 "nbformat": 4,
 "nbformat_minor": 2
}
